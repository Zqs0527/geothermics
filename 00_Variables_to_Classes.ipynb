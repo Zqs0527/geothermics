{
 "cells": [
  {
   "cell_type": "markdown",
   "metadata": {
    "slideshow": {
     "slide_type": "slide"
    }
   },
   "source": [
    "# From Variables to Classes\n",
    "## A short Introduction  \n",
    "\n",
    "Python - as any programming language - has many extensions and libraries at its disposal. Basically, there exist libraries for everything.  \n",
    "\n",
    "<center>But what are **libraries**?  </center>  \n",
    "\n",
    "Basically, **libraries** are a collection of methods (_small pieces of code where you put sth in and get sth else out_) which you can use to analyse your data, visualise your data, run models ... do anything you like.  \n",
    "\n",
    "As said, methods usually take _something_ as input. That _something_ is usually a **variable**.  \n",
    "\n",
    "In the following, we will work our way from **variables** to **libraries**."
   ]
  },
  {
   "cell_type": "markdown",
   "metadata": {
    "slideshow": {
     "slide_type": "slide"
    }
   },
   "source": [
    "## Variables  \n",
    "\n",
    "Variables are one of the simplest types of objects in a programming language. An [object](https://en.wikipedia.org/wiki/Object_(computer_science) is a value stored in the memory of your computer, marked by a specific identifyer.   Variables can have different types, such as [strings, numbers, and booleans](https://www.learnpython.org/en/Variables_and_Types).  Differently to other programming languages, you do not need to declare the type of a variable, as variables are handled as objects in Python.  \n",
    "\n",
    "```python\n",
    "x = 4.2             # floating point number\n",
    "y = 'Hello World!'  # string\n",
    "z = True            # boolean\n",
    "```"
   ]
  },
  {
   "cell_type": "code",
   "execution_count": 3,
   "metadata": {
    "slideshow": {
     "slide_type": "subslide"
    }
   },
   "outputs": [
    {
     "name": "stdout",
     "output_type": "stream",
     "text": [
      "<class 'float'>\n",
      "Hello World! Hello universe\n",
      "<class 'bool'>\n"
     ]
    }
   ],
   "source": [
    "x = 4.24725723  \n",
    "print(type(x))\n",
    "\n",
    "y = 'Hello World! Hello universe'\n",
    "print(y)\n",
    "\n",
    "z = True\n",
    "print(type(z))"
   ]
  },
  {
   "cell_type": "markdown",
   "metadata": {
    "slideshow": {
     "slide_type": "subslide"
    }
   },
   "source": [
    "We can use operations (normal arithmetic operations) to use variables for getting results we want. With numbers, you can add, substract, multiply, divide, basically taking the values from the memory assigned to the variable name and performing calculations.   \n",
    "\n",
    "Let's have a look at operations with numbers and strings. We leave booleans to the side for the moment. We will simply add the variables below.  \n",
    "\n",
    "```python \n",
    "n1 = 7 \n",
    "n2 = 42\n",
    "\n",
    "s1 = 'Looking good, '\n",
    "s2 = 'you are.'\n",
    "```"
   ]
  },
  {
   "cell_type": "code",
   "execution_count": 2,
   "metadata": {
    "slideshow": {
     "slide_type": "subslide"
    }
   },
   "outputs": [
    {
     "name": "stdout",
     "output_type": "stream",
     "text": [
      "49\n",
      "Looking good, you are.\n"
     ]
    }
   ],
   "source": [
    "n1 = 7\n",
    "n2 = 42\n",
    "\n",
    "s1 = 'Looking good, '  \n",
    "s2 = 'you are.'\n",
    "\n",
    "first_sum = n1 + n2\n",
    "print(first_sum)\n",
    "first_conc = s1 + s2\n",
    "print(first_conc)"
   ]
  },
  {
   "cell_type": "markdown",
   "metadata": {
    "slideshow": {
     "slide_type": "subslide"
    }
   },
   "source": [
    "Variables can be more than just a number. If you think of an Excel-Spreadsheet, a variable can be the content of a single cell, or multiple cells can be combined in one variable (e.g. one column of an Excel table). \n",
    "So let's create a list -_a collection of variables_ - from `x`, `n1`, and `n2`. Lists in python are created using [ ].    \n",
    "Now, if you want to calculate the sum of this list, it is really exhausting to sum up every item of this list manually.   \n",
    "\n",
    "```python\n",
    "first_list = [x, n1, n2]  \n",
    "# a sum of a list could look like\n",
    "second_sum = some_list[0] + some_list[1] + ... + some_list[n]  # where n is the last item of the list, e.g. 2 for first_list. \n",
    "```"
   ]
  },
  {
   "cell_type": "markdown",
   "metadata": {
    "slideshow": {
     "slide_type": "subslide"
    }
   },
   "source": [
    "Actually, writing the second sum like this is the same as before. It would be great, if this step of calculating the sum could be used many times without writing it out. And this is, what functions are for. For example, there already exists a sum function:  \n",
    "\n",
    "```python \n",
    "sum(first_list)```"
   ]
  },
  {
   "cell_type": "code",
   "execution_count": 3,
   "metadata": {
    "slideshow": {
     "slide_type": "subslide"
    }
   },
   "outputs": [
    {
     "name": "stdout",
     "output_type": "stream",
     "text": [
      "manual sum 53.2\n",
      "sum function 53.2\n"
     ]
    }
   ],
   "source": [
    "first_list = [x, n1, n2]\n",
    "second_sum = first_list[0] + first_list[1] + first_list[2]\n",
    "print('manual sum {}'.format(second_sum))\n",
    "\n",
    "# This can also be done with a function  \n",
    "print('sum function {}'.format(sum(first_list)))"
   ]
  },
  {
   "cell_type": "markdown",
   "metadata": {
    "slideshow": {
     "slide_type": "slide"
    }
   },
   "source": [
    "## Functions \n",
    "The `sum()` method we used above is a **function**.  \n",
    "Functions (later we will call them methods) are pieces of code, which take an input, perform some kind of operation, and (_optionally_) return an output.  "
   ]
  },
  {
   "cell_type": "markdown",
   "metadata": {
    "slideshow": {
     "slide_type": "subslide"
    }
   },
   "source": [
    "In Python, functions are written like:  \n",
    "\n",
    "```python\n",
    "def func(input):\n",
    "    \"\"\"\n",
    "    Description of the functions content # called the function header\n",
    "    \"\"\"\n",
    "    some kind of operation on input # called the function body\n",
    "    \n",
    "    return output\n",
    "```\n",
    "As an example, we write a `sumup` function which sums up a list."
   ]
  },
  {
   "cell_type": "code",
   "execution_count": 4,
   "metadata": {
    "slideshow": {
     "slide_type": "subslide"
    }
   },
   "outputs": [
    {
     "name": "stdout",
     "output_type": "stream",
     "text": [
      "The python sum function yields 53.2, \n",
      "and our sumup function yields 53.2.\n"
     ]
    }
   ],
   "source": [
    "def sumup(inp):\n",
    "    \"\"\"\n",
    "    input: inp - list/array with floating point or integer numbers\n",
    "    return: sumd - scalar value of the summed up list\n",
    "    \"\"\"\n",
    "    val = 0\n",
    "    for i in inp:\n",
    "        val = val + i\n",
    "    return val\n",
    "\n",
    "# let's compare the implemented standard sum function with the new sumup function\n",
    "sum1 = sum(first_list)\n",
    "sum2 = sumup(first_list)\n",
    "print(\"The python sum function yields {}, \\nand our sumup function yields {}.\".format(*(sum1,sum2)))"
   ]
  },
  {
   "cell_type": "code",
   "execution_count": 5,
   "metadata": {
    "slideshow": {
     "slide_type": "subslide"
    }
   },
   "outputs": [
    {
     "name": "stdout",
     "output_type": "stream",
     "text": [
      "the sum of the array is: 5050\n"
     ]
    }
   ],
   "source": [
    "# summing up the numbers from 1 to 100\n",
    "import numpy as np\n",
    "ar_2_sum = np.linspace(1,100,100, dtype='i')\n",
    "\n",
    "print(\"the sum of the array is: {}\".format(sumup(ar_2_sum)))"
   ]
  },
  {
   "cell_type": "markdown",
   "metadata": {
    "slideshow": {
     "slide_type": "subslide"
    }
   },
   "source": [
    "As we see above, functions are quite practical and save a lot of time. Further, they help structuring your code. Some functions are directly available in python without any libraries or other external software. In the example above however, you might have noticed, that we `import`ed a library called `numpy`.  \n",
    "In those libraries, functions are merged to one package, having the advantage that you don't need to import each single function at a time.  \n",
    "Imagine you move and have to pack all your belongings. You can think of libraries as packing things with similar purpose in the same box (= library)."
   ]
  },
  {
   "cell_type": "markdown",
   "metadata": {
    "slideshow": {
     "slide_type": "slide"
    }
   },
   "source": [
    "## Functions to Methods as part of classes\n",
    "When we talk about functions in the environment of classes, we usually call them methods. But what are **classes**?  \n",
    "[Classes](https://docs.python.org/3/tutorial/classes.html) are ways to bundle functionality together. Logically, functionality with similar purpose (or different kind of similarity).  \n",
    "One example could be: think of **apples**.  \n",
    "\n",
    "Apples are now a class. You can apply methods to this class, such as `eat()` or `cut()`. Or more sophisticated methods including various recipes using apples comprised in a cookbook.  \n",
    "The `eat()` method is straight forward. But the `cut()` method may be more interesting, since there are various ways to cut an apple.\n"
   ]
  },
  {
   "cell_type": "markdown",
   "metadata": {
    "slideshow": {
     "slide_type": "subslide"
    }
   },
   "source": [
    "Let's assume there are two apples to be cut differently. In python, once you have assigned a class to a variable, you have created an **instance** of that class. Then, methods of are applied to that instance by using a . notation.\n",
    "```python\n",
    "Golden_Delicious = apple()\n",
    "Yoya = apple()\n",
    "\n",
    "Golden_Delicious.cut(4)\n",
    "Yoya.cut(8)\n",
    "```\n",
    "The two apples Golden Delicious and Yoya are _instances_ of the class apple. Real _incarnations_ of the abstract concept _apple_. The Golden Delicious is cut into 4 pieces, while the Yoya is cut into 8 pieces. "
   ]
  },
  {
   "cell_type": "markdown",
   "metadata": {
    "slideshow": {
     "slide_type": "subslide"
    }
   },
   "source": [
    "This is similar to more complex libraries, such as the `scikit-learn`. In one exercise, you used the command:  \n",
    "```python\n",
    "from sklearn.cluster import KMeans\n",
    "```\n",
    "which simply imports the **class** `KMeans` from the library part `sklearn.cluster`. `KMeans` comprises several methods for clustering, which you can use by calling them similar to the apple example before."
   ]
  },
  {
   "cell_type": "markdown",
   "metadata": {
    "slideshow": {
     "slide_type": "subslide"
    }
   },
   "source": [
    " For this, you need to create an _instance_ of the `KMeans` class.  \n",
    "```python\n",
    "...\n",
    "kmeans_inst = KMeans(n_clusters=n_clusters) # first we create the instance of the KMeans class called kmeans_inst\n",
    "kmeans_inst.fit(data)                       # then we apply a method to the instance kmeans_inst\n",
    "...\n",
    "```\n",
    "An example:"
   ]
  },
  {
   "cell_type": "code",
   "execution_count": 6,
   "metadata": {
    "slideshow": {
     "slide_type": "subslide"
    }
   },
   "outputs": [
    {
     "data": {
      "text/plain": [
       "<matplotlib.collections.PathCollection at 0x7fb085832748>"
      ]
     },
     "execution_count": 6,
     "metadata": {},
     "output_type": "execute_result"
    },
    {
     "data": {
      "image/png": "[encoded data removed]",
      "text/plain": [
       "<matplotlib.figure.Figure at 0x7fb0a011a710>"
      ]
     },
     "metadata": {},
     "output_type": "display_data"
    }
   ],
   "source": [
    "# here we just create the data for clustering\n",
    "from sklearn.datasets.samples_generator import make_blobs\n",
    "import matplotlib.pyplot as plt\n",
    "%matplotlib inline\n",
    "X, y = make_blobs(n_samples=100, centers=3, cluster_std= 0.5,\n",
    "                  random_state=0)\n",
    "\n",
    "plt.scatter(X[:,0], X[:,1], s=70)"
   ]
  },
  {
   "cell_type": "code",
   "execution_count": 7,
   "metadata": {
    "collapsed": true,
    "slideshow": {
     "slide_type": "subslide"
    }
   },
   "outputs": [],
   "source": [
    "# now we create an instance of the KMeans class\n",
    "from sklearn.cluster import KMeans\n",
    "nr_of_clusters = 3                               # because we see 3 clusters in the plot above\n",
    "kmeans_inst = KMeans(n_clusters= nr_of_clusters) # create the instance kmeans_inst\n",
    "kmeans_inst.fit(X)                               # apply a method to the instance\n",
    "y_predict = kmeans_inst.predict(X)               # apply another method to the instance and save it in another variable"
   ]
  },
  {
   "cell_type": "code",
   "execution_count": 8,
   "metadata": {
    "slideshow": {
     "slide_type": "subslide"
    }
   },
   "outputs": [
    {
     "data": {
      "image/png": "[encoded data removed]",
      "text/plain": [
       "<matplotlib.figure.Figure at 0x7fb082602828>"
      ]
     },
     "metadata": {},
     "output_type": "display_data"
    }
   ],
   "source": [
    "# lets plot the predicted cluster centers colored in the cluster color\n",
    "plt.scatter(X[:, 0], X[:, 1], c=y_predict, s=50, cmap='Accent')\n",
    "centers = kmeans_inst.cluster_centers_           # apply the method to find the new centers of the determined clusters\n",
    "plt.scatter(centers[:, 0], centers[:, 1], c='red', s=200, alpha=0.6); # plot the cluster centers"
   ]
  },
  {
   "cell_type": "markdown",
   "metadata": {
    "slideshow": {
     "slide_type": "slide"
    }
   },
   "source": [
    "## Summary  \n",
    "This short presentation is meant to make you familiar with the concept of variables, functions, methods and classes. All of which are objects!  \n",
    "* Variables are normally declared by the user and link a value stored in the memory of your pc to a variable name. They are usually the input of functions  \n",
    "* Functions are pieces of code taking an input and performing some operation on said input. Optionally, they return directly an output value  \n",
    "* To facilitate the use of functions, they are sometimes bundled as methods within classes. Classes in turn can build up whole libraries in python. "
   ]
  },
  {
   "cell_type": "markdown",
   "metadata": {
    "slideshow": {
     "slide_type": "subslide"
    }
   },
   "source": [
    "* Similar to real book libraries, python libraries contain a collection of _recipes_ which can be applied to your data.  \n",
    "* In terms of apples: You own different kinds of apples. A book about apple dishes (_class_) from the library contains different recipes (_methods_) which can be used for your different apples (_instances of the class_)."
   ]
  },
  {
   "cell_type": "markdown",
   "metadata": {
    "slideshow": {
     "slide_type": "slide"
    }
   },
   "source": [
    "## Further links \n",
    "* [Data Science Handbook](https://jakevdp.github.io/PythonDataScienceHandbook/)\n",
    "* [Python for Geosciences](https://github.com/koldunovn/python_for_geosciences)  \n",
    "* [Introduction to Python for Geoscientists](http://ggorman.github.io/Introduction-to-programming-for-geoscientists/)  \n",
    "* [Full Video course on Object Oriented Programming](https://www.youtube.com/watch?v=ZDa-Z5JzLYM&list=PL-osiE80TeTsqhIuOqKhwlXsIBIdSeYtc)"
   ]
  }
 ],
 "metadata": {
  "celltoolbar": "Slideshow",
  "hide_input": false,
  "kernelspec": {
   "display_name": "Python 3",
   "language": "python",
   "name": "python3"
  },
  "language_info": {
   "codemirror_mode": {
    "name": "ipython",
    "version": 3
   },
   "file_extension": ".py",
   "mimetype": "text/x-python",
   "name": "python",
   "nbconvert_exporter": "python",
   "pygments_lexer": "ipython3",
   "version": "3.6.5"
  },
  "latex_envs": {
   "LaTeX_envs_menu_present": true,
   "autocomplete": true,
   "bibliofile": "biblio.bib",
   "cite_by": "apalike",
   "current_citInitial": 1,
   "eqLabelWithNumbers": true,
   "eqNumInitial": 1,
   "hotkeys": {
    "equation": "Ctrl-E",
    "itemize": "Ctrl-I"
   },
   "labels_anchors": false,
   "latex_user_defs": false,
   "report_style_numbering": false,
   "user_envs_cfg": false
  },
  "toc": {
   "base_numbering": 1,
   "nav_menu": {
    "height": "105px",
    "width": "252px"
   },
   "number_sections": false,
   "sideBar": true,
   "skip_h1_title": false,
   "title_cell": "Table of Contents",
   "title_sidebar": "Contents",
   "toc_cell": false,
   "toc_position": {},
   "toc_section_display": "block",
   "toc_window_display": false
  },
  "varInspector": {
   "cols": {
    "lenName": 16,
    "lenType": 16,
    "lenVar": 40
   },
   "kernels_config": {
    "python": {
     "delete_cmd_postfix": "",
     "delete_cmd_prefix": "del ",
     "library": "var_list.py",
     "varRefreshCmd": "print(var_dic_list())"
    },
    "r": {
     "delete_cmd_postfix": ") ",
     "delete_cmd_prefix": "rm(",
     "library": "var_list.r",
     "varRefreshCmd": "cat(var_dic_list()) "
    }
   },
   "types_to_exclude": [
    "module",
    "function",
    "builtin_function_or_method",
    "instance",
    "_Feature"
   ],
   "window_display": false
  }
 },
 "nbformat": 4,
 "nbformat_minor": 2
}
